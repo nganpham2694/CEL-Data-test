{
  "nbformat": 4,
  "nbformat_minor": 0,
  "metadata": {
    "colab": {
      "name": "DA_CEL-test.ipynb",
      "provenance": [],
      "collapsed_sections": []
    },
    "kernelspec": {
      "name": "python3",
      "display_name": "Python 3"
    }
  },
  "cells": [
    {
      "cell_type": "markdown",
      "metadata": {
        "id": "Q5KQHfiqMyIl",
        "colab_type": "text"
      },
      "source": [
        "\n",
        "##<font color='red'>**CEL DATA ANALYSIS TEST**</font>\n"
      ]
    },
    {
      "cell_type": "markdown",
      "metadata": {
        "id": "WsZ13mGFse2X",
        "colab_type": "text"
      },
      "source": [
        ">**1. BUSINESS PROBLEM**"
      ]
    },
    {
      "cell_type": "markdown",
      "metadata": {
        "id": "NrqbVYFysraU",
        "colab_type": "text"
      },
      "source": [
        ">**2. EXPLORATORY DATA ANALYSIS**"
      ]
    },
    {
      "cell_type": "markdown",
      "metadata": {
        "id": "ApQTHQRHtsCS",
        "colab_type": "text"
      },
      "source": [
        ">><font color=\"blue\">*2.1  Overview Data* </font>"
      ]
    },
    {
      "cell_type": "code",
      "metadata": {
        "id": "fA9QvfQMiXlK",
        "colab_type": "code",
        "colab": {
          "resources": {
            "http://localhost:8080/nbextensions/google.colab/files.js": {
              "data": "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",
              "ok": true,
              "headers": [
                [
                  "content-type",
                  "application/javascript"
                ]
              ],
              "status": 200,
              "status_text": ""
            }
          },
          "base_uri": "https://localhost:8080/",
          "height": 108
        },
        "outputId": "e8be8464-082e-4cb3-fe5e-b184b19c1f66"
      },
      "source": [
        "# Import pandas library and upload files\n",
        "import pandas as pd\n",
        "from google.colab import files\n",
        "uploaded=files.upload()"
      ],
      "execution_count": 3,
      "outputs": [
        {
          "output_type": "display_data",
          "data": {
            "text/html": [
              "\n",
              "     <input type=\"file\" id=\"files-346ef0f3-7f90-4153-b191-1977f704975e\" name=\"files[]\" multiple disabled\n",
              "        style=\"border:none\" />\n",
              "     <output id=\"result-346ef0f3-7f90-4153-b191-1977f704975e\">\n",
              "      Upload widget is only available when the cell has been executed in the\n",
              "      current browser session. Please rerun this cell to enable.\n",
              "      </output>\n",
              "      <script src=\"/nbextensions/google.colab/files.js\"></script> "
            ],
            "text/plain": [
              "<IPython.core.display.HTML object>"
            ]
          },
          "metadata": {
            "tags": []
          }
        },
        {
          "output_type": "stream",
          "text": [
            "Saving canceled_test.csv to canceled_test.csv\n",
            "Saving sales_test.csv to sales_test.csv\n"
          ],
          "name": "stdout"
        }
      ]
    },
    {
      "cell_type": "code",
      "metadata": {
        "id": "pFGtm8jai3t0",
        "colab_type": "code",
        "colab": {}
      },
      "source": [
        "# Read the dataset into notebook\n",
        "## Sales_test\n",
        "sales_test=pd.read_csv('sales_test.csv')\n",
        "## Canceled_test\n",
        "canceled_test=pd.read_csv('canceled_test.csv')"
      ],
      "execution_count": 4,
      "outputs": []
    },
    {
      "cell_type": "code",
      "metadata": {
        "id": "cnXDgWvxb2eR",
        "colab_type": "code",
        "colab": {
          "base_uri": "https://localhost:8080/",
          "height": 202
        },
        "outputId": "fcbda284-81f9-4871-9e59-6afab0c4b852"
      },
      "source": [
        "# View 5 top rows of Sales_test\n",
        "sales_test.head()"
      ],
      "execution_count": 5,
      "outputs": [
        {
          "output_type": "execute_result",
          "data": {
            "text/html": [
              "<div>\n",
              "<style scoped>\n",
              "    .dataframe tbody tr th:only-of-type {\n",
              "        vertical-align: middle;\n",
              "    }\n",
              "\n",
              "    .dataframe tbody tr th {\n",
              "        vertical-align: top;\n",
              "    }\n",
              "\n",
              "    .dataframe thead th {\n",
              "        text-align: right;\n",
              "    }\n",
              "</style>\n",
              "<table border=\"1\" class=\"dataframe\">\n",
              "  <thead>\n",
              "    <tr style=\"text-align: right;\">\n",
              "      <th></th>\n",
              "      <th>Order No</th>\n",
              "      <th>Order Date</th>\n",
              "      <th>Line No</th>\n",
              "      <th>Ship To Address No</th>\n",
              "      <th>Item Code</th>\n",
              "      <th>Order Qty</th>\n",
              "      <th>Quantity Shipped</th>\n",
              "    </tr>\n",
              "  </thead>\n",
              "  <tbody>\n",
              "    <tr>\n",
              "      <th>0</th>\n",
              "      <td>528758</td>\n",
              "      <td>2017-01-03</td>\n",
              "      <td>1</td>\n",
              "      <td>1358538.0</td>\n",
              "      <td>111931</td>\n",
              "      <td>70.0</td>\n",
              "      <td>70.0</td>\n",
              "    </tr>\n",
              "    <tr>\n",
              "      <th>1</th>\n",
              "      <td>528791</td>\n",
              "      <td>2017-01-03</td>\n",
              "      <td>1</td>\n",
              "      <td>1254798.0</td>\n",
              "      <td>1029071</td>\n",
              "      <td>10.0</td>\n",
              "      <td>10.0</td>\n",
              "    </tr>\n",
              "    <tr>\n",
              "      <th>2</th>\n",
              "      <td>528791</td>\n",
              "      <td>2017-01-03</td>\n",
              "      <td>2</td>\n",
              "      <td>1254798.0</td>\n",
              "      <td>1033341</td>\n",
              "      <td>10.0</td>\n",
              "      <td>10.0</td>\n",
              "    </tr>\n",
              "    <tr>\n",
              "      <th>3</th>\n",
              "      <td>528791</td>\n",
              "      <td>2017-01-03</td>\n",
              "      <td>3</td>\n",
              "      <td>1254798.0</td>\n",
              "      <td>1040827</td>\n",
              "      <td>5.0</td>\n",
              "      <td>5.0</td>\n",
              "    </tr>\n",
              "    <tr>\n",
              "      <th>4</th>\n",
              "      <td>528791</td>\n",
              "      <td>2017-01-03</td>\n",
              "      <td>4</td>\n",
              "      <td>1254798.0</td>\n",
              "      <td>10106111</td>\n",
              "      <td>10.0</td>\n",
              "      <td>10.0</td>\n",
              "    </tr>\n",
              "  </tbody>\n",
              "</table>\n",
              "</div>"
            ],
            "text/plain": [
              "   Order No  Order Date  Line No  ...  Item Code  Order Qty  Quantity Shipped\n",
              "0    528758  2017-01-03        1  ...     111931       70.0              70.0\n",
              "1    528791  2017-01-03        1  ...    1029071       10.0              10.0\n",
              "2    528791  2017-01-03        2  ...    1033341       10.0              10.0\n",
              "3    528791  2017-01-03        3  ...    1040827        5.0               5.0\n",
              "4    528791  2017-01-03        4  ...   10106111       10.0              10.0\n",
              "\n",
              "[5 rows x 7 columns]"
            ]
          },
          "metadata": {
            "tags": []
          },
          "execution_count": 5
        }
      ]
    },
    {
      "cell_type": "code",
      "metadata": {
        "id": "IEEBUs47sNaE",
        "colab_type": "code",
        "colab": {
          "base_uri": "https://localhost:8080/",
          "height": 202
        },
        "outputId": "1eed886d-44d8-4619-e469-d86d8b8f7485"
      },
      "source": [
        "# View 5 top rows of Canceled_test\n",
        "canceled_test.head()"
      ],
      "execution_count": 6,
      "outputs": [
        {
          "output_type": "execute_result",
          "data": {
            "text/html": [
              "<div>\n",
              "<style scoped>\n",
              "    .dataframe tbody tr th:only-of-type {\n",
              "        vertical-align: middle;\n",
              "    }\n",
              "\n",
              "    .dataframe tbody tr th {\n",
              "        vertical-align: top;\n",
              "    }\n",
              "\n",
              "    .dataframe thead th {\n",
              "        text-align: right;\n",
              "    }\n",
              "</style>\n",
              "<table border=\"1\" class=\"dataframe\">\n",
              "  <thead>\n",
              "    <tr style=\"text-align: right;\">\n",
              "      <th></th>\n",
              "      <th>Order Number</th>\n",
              "      <th>Line Number</th>\n",
              "      <th>Order Date</th>\n",
              "      <th>Ship To Address No</th>\n",
              "      <th>Item Code</th>\n",
              "      <th>Quantity Ordered</th>\n",
              "      <th>Quantity Canceled</th>\n",
              "    </tr>\n",
              "  </thead>\n",
              "  <tbody>\n",
              "    <tr>\n",
              "      <th>0</th>\n",
              "      <td>528703</td>\n",
              "      <td>1</td>\n",
              "      <td>2017-01-03</td>\n",
              "      <td>1857566.0</td>\n",
              "      <td>10135139</td>\n",
              "      <td>1</td>\n",
              "      <td>1</td>\n",
              "    </tr>\n",
              "    <tr>\n",
              "      <th>1</th>\n",
              "      <td>528705</td>\n",
              "      <td>1</td>\n",
              "      <td>2017-01-03</td>\n",
              "      <td>1857566.0</td>\n",
              "      <td>10135140</td>\n",
              "      <td>1</td>\n",
              "      <td>1</td>\n",
              "    </tr>\n",
              "    <tr>\n",
              "      <th>2</th>\n",
              "      <td>528706</td>\n",
              "      <td>2</td>\n",
              "      <td>2017-01-03</td>\n",
              "      <td>1857566.0</td>\n",
              "      <td>10135138</td>\n",
              "      <td>1</td>\n",
              "      <td>1</td>\n",
              "    </tr>\n",
              "    <tr>\n",
              "      <th>3</th>\n",
              "      <td>528707</td>\n",
              "      <td>1</td>\n",
              "      <td>2017-01-03</td>\n",
              "      <td>1857566.0</td>\n",
              "      <td>10135132</td>\n",
              "      <td>1</td>\n",
              "      <td>1</td>\n",
              "    </tr>\n",
              "    <tr>\n",
              "      <th>4</th>\n",
              "      <td>528708</td>\n",
              "      <td>1</td>\n",
              "      <td>2017-01-03</td>\n",
              "      <td>1857566.0</td>\n",
              "      <td>10135359</td>\n",
              "      <td>1</td>\n",
              "      <td>1</td>\n",
              "    </tr>\n",
              "  </tbody>\n",
              "</table>\n",
              "</div>"
            ],
            "text/plain": [
              "   Order Number  Line Number  ... Quantity Ordered  Quantity Canceled\n",
              "0        528703            1  ...                1                  1\n",
              "1        528705            1  ...                1                  1\n",
              "2        528706            2  ...                1                  1\n",
              "3        528707            1  ...                1                  1\n",
              "4        528708            1  ...                1                  1\n",
              "\n",
              "[5 rows x 7 columns]"
            ]
          },
          "metadata": {
            "tags": []
          },
          "execution_count": 6
        }
      ]
    },
    {
      "cell_type": "code",
      "metadata": {
        "id": "9OdwuOA7DUUu",
        "colab_type": "code",
        "colab": {
          "base_uri": "https://localhost:8080/",
          "height": 503
        },
        "outputId": "4040800e-8c7e-49c1-f5e3-b89d390667eb"
      },
      "source": [
        "# Information about DataFrame\n",
        "sales_test.info()\n",
        "canceled_test.info()"
      ],
      "execution_count": 7,
      "outputs": [
        {
          "output_type": "stream",
          "text": [
            "<class 'pandas.core.frame.DataFrame'>\n",
            "RangeIndex: 28315 entries, 0 to 28314\n",
            "Data columns (total 7 columns):\n",
            " #   Column              Non-Null Count  Dtype  \n",
            "---  ------              --------------  -----  \n",
            " 0   Order No            28315 non-null  int64  \n",
            " 1   Order Date          28315 non-null  object \n",
            " 2   Line No             28315 non-null  int64  \n",
            " 3   Ship To Address No  28315 non-null  float64\n",
            " 4   Item Code           28315 non-null  int64  \n",
            " 5   Order Qty           28315 non-null  float64\n",
            " 6   Quantity Shipped    28315 non-null  float64\n",
            "dtypes: float64(3), int64(3), object(1)\n",
            "memory usage: 1.5+ MB\n",
            "<class 'pandas.core.frame.DataFrame'>\n",
            "RangeIndex: 3662 entries, 0 to 3661\n",
            "Data columns (total 7 columns):\n",
            " #   Column              Non-Null Count  Dtype  \n",
            "---  ------              --------------  -----  \n",
            " 0   Order Number        3662 non-null   int64  \n",
            " 1   Line Number         3662 non-null   int64  \n",
            " 2   Order Date          3662 non-null   object \n",
            " 3   Ship To Address No  3662 non-null   float64\n",
            " 4   Item Code           3662 non-null   int64  \n",
            " 5   Quantity Ordered    3662 non-null   int64  \n",
            " 6   Quantity Canceled   3662 non-null   int64  \n",
            "dtypes: float64(1), int64(5), object(1)\n",
            "memory usage: 200.4+ KB\n"
          ],
          "name": "stdout"
        }
      ]
    },
    {
      "cell_type": "code",
      "metadata": {
        "id": "7tPHuRrwENqT",
        "colab_type": "code",
        "colab": {}
      },
      "source": [
        "# Change data type of \"Ship to Adress No\" from float to int\n",
        "sales_test=sales_test.astype({'Ship To Address No':int})\n",
        "canceled_test=canceled_test.astype({'Ship To Address No':int})"
      ],
      "execution_count": 8,
      "outputs": []
    },
    {
      "cell_type": "markdown",
      "metadata": {
        "id": "GOXd7b4Fi6IZ",
        "colab_type": "text"
      },
      "source": [
        ">><font color=\"blue\">*2.2  Cleaning Data* </font>"
      ]
    },
    {
      "cell_type": "markdown",
      "metadata": {
        "id": "6lJpzLeMkVCi",
        "colab_type": "text"
      },
      "source": [
        ">>><font color='purple'> *2.2.1 Handling the missing or null values* </font>"
      ]
    },
    {
      "cell_type": "code",
      "metadata": {
        "id": "hCkdfOqOTyWz",
        "colab_type": "code",
        "colab": {
          "base_uri": "https://localhost:8080/",
          "height": 156
        },
        "outputId": "61c5dc34-10a7-4b01-c284-f4423b9b3ca7"
      },
      "source": [
        "# Count NA for Sales_test table\n",
        "pd.isnull(sales_test).sum(axis=0)"
      ],
      "execution_count": 9,
      "outputs": [
        {
          "output_type": "execute_result",
          "data": {
            "text/plain": [
              "Order No              0\n",
              "Order Date            0\n",
              "Line No               0\n",
              "Ship To Address No    0\n",
              "Item Code             0\n",
              "Order Qty             0\n",
              "Quantity Shipped      0\n",
              "dtype: int64"
            ]
          },
          "metadata": {
            "tags": []
          },
          "execution_count": 9
        }
      ]
    },
    {
      "cell_type": "code",
      "metadata": {
        "id": "dddBrzQ2WNRi",
        "colab_type": "code",
        "colab": {
          "base_uri": "https://localhost:8080/",
          "height": 156
        },
        "outputId": "ef4656ff-44d4-46a7-b920-5a645b321201"
      },
      "source": [
        "# Count NA for Canceled_test table\n",
        "pd.isnull(canceled_test).sum(axis=0)"
      ],
      "execution_count": 10,
      "outputs": [
        {
          "output_type": "execute_result",
          "data": {
            "text/plain": [
              "Order Number          0\n",
              "Line Number           0\n",
              "Order Date            0\n",
              "Ship To Address No    0\n",
              "Item Code             0\n",
              "Quantity Ordered      0\n",
              "Quantity Canceled     0\n",
              "dtype: int64"
            ]
          },
          "metadata": {
            "tags": []
          },
          "execution_count": 10
        }
      ]
    },
    {
      "cell_type": "markdown",
      "metadata": {
        "id": "cumYLQ2hlIyU",
        "colab_type": "text"
      },
      "source": [
        ">>><font color='purple'> *2.2.2 Dropping the duplicate rows* </font>"
      ]
    },
    {
      "cell_type": "code",
      "metadata": {
        "id": "4PhdJSubep-_",
        "colab_type": "code",
        "colab": {
          "base_uri": "https://localhost:8080/",
          "height": 35
        },
        "outputId": "b76c4f23-0797-4f13-938b-9bf5e2efbb1e"
      },
      "source": [
        "# Total number of rows and columns for Sales test\n",
        "sales_test.shape"
      ],
      "execution_count": 11,
      "outputs": [
        {
          "output_type": "execute_result",
          "data": {
            "text/plain": [
              "(28315, 7)"
            ]
          },
          "metadata": {
            "tags": []
          },
          "execution_count": 11
        }
      ]
    },
    {
      "cell_type": "code",
      "metadata": {
        "id": "FHAyvVQgfDMB",
        "colab_type": "code",
        "colab": {
          "base_uri": "https://localhost:8080/",
          "height": 35
        },
        "outputId": "62bea393-1ec4-4982-86d7-15a208a74685"
      },
      "source": [
        "# Rows containing duplicate data of Sales test\n",
        "duplicate_row_sales_test=sales_test[sales_test.duplicated()]\n",
        "print('Number of duplicate rows: ', duplicate_row_sales_test.shape)"
      ],
      "execution_count": 12,
      "outputs": [
        {
          "output_type": "stream",
          "text": [
            "Number of duplicate rows:  (0, 7)\n"
          ],
          "name": "stdout"
        }
      ]
    },
    {
      "cell_type": "code",
      "metadata": {
        "id": "ooJDvxEZgC7h",
        "colab_type": "code",
        "colab": {
          "base_uri": "https://localhost:8080/",
          "height": 35
        },
        "outputId": "963d2906-6c0f-4c8b-9478-e2949643e3b7"
      },
      "source": [
        "# Using the same approach for Canceled test\n",
        "## Total number of rows and columns\n",
        "canceled_test.shape"
      ],
      "execution_count": 13,
      "outputs": [
        {
          "output_type": "execute_result",
          "data": {
            "text/plain": [
              "(3662, 7)"
            ]
          },
          "metadata": {
            "tags": []
          },
          "execution_count": 13
        }
      ]
    },
    {
      "cell_type": "code",
      "metadata": {
        "id": "dnwLpGqsgmEs",
        "colab_type": "code",
        "colab": {
          "base_uri": "https://localhost:8080/",
          "height": 35
        },
        "outputId": "e253ed22-774c-4559-e167-cac03fce511c"
      },
      "source": [
        "# Rows containing duplicate data of Canceled test\n",
        "duplicate_row_canceled_test=canceled_test[canceled_test.duplicated()]\n",
        "print('Number of duplicate rows: ', duplicate_row_canceled_test.shape)"
      ],
      "execution_count": 14,
      "outputs": [
        {
          "output_type": "stream",
          "text": [
            "Number of duplicate rows:  (0, 7)\n"
          ],
          "name": "stdout"
        }
      ]
    },
    {
      "cell_type": "markdown",
      "metadata": {
        "id": "9qTqSAGYhu-g",
        "colab_type": "text"
      },
      "source": [
        "****\n",
        "<font color='orange'>=> Obviously, this dataset has no missing value and duplication </font>"
      ]
    },
    {
      "cell_type": "markdown",
      "metadata": {
        "id": "bwjVyqBFjMcv",
        "colab_type": "text"
      },
      "source": [
        ">><font color=\"blue\">*2.3  Processing Data* </font>"
      ]
    },
    {
      "cell_type": "code",
      "metadata": {
        "id": "O8k4sB1UKXDy",
        "colab_type": "code",
        "colab": {
          "base_uri": "https://localhost:8080/",
          "height": 202
        },
        "outputId": "a8f22056-0dfd-4064-b121-b221e68b1873"
      },
      "source": [
        "# Rename some of columns for Sales_test table to match with Canceled_test one\n",
        "sales_test.rename(columns={'Order No':'Order Number','Line No':'Line Number','Order Qty':'Quantity Ordered'},inplace=True)\n",
        "sales_test.head()"
      ],
      "execution_count": 15,
      "outputs": [
        {
          "output_type": "execute_result",
          "data": {
            "text/html": [
              "<div>\n",
              "<style scoped>\n",
              "    .dataframe tbody tr th:only-of-type {\n",
              "        vertical-align: middle;\n",
              "    }\n",
              "\n",
              "    .dataframe tbody tr th {\n",
              "        vertical-align: top;\n",
              "    }\n",
              "\n",
              "    .dataframe thead th {\n",
              "        text-align: right;\n",
              "    }\n",
              "</style>\n",
              "<table border=\"1\" class=\"dataframe\">\n",
              "  <thead>\n",
              "    <tr style=\"text-align: right;\">\n",
              "      <th></th>\n",
              "      <th>Order Number</th>\n",
              "      <th>Order Date</th>\n",
              "      <th>Line Number</th>\n",
              "      <th>Ship To Address No</th>\n",
              "      <th>Item Code</th>\n",
              "      <th>Quantity Ordered</th>\n",
              "      <th>Quantity Shipped</th>\n",
              "    </tr>\n",
              "  </thead>\n",
              "  <tbody>\n",
              "    <tr>\n",
              "      <th>0</th>\n",
              "      <td>528758</td>\n",
              "      <td>2017-01-03</td>\n",
              "      <td>1</td>\n",
              "      <td>1358538</td>\n",
              "      <td>111931</td>\n",
              "      <td>70.0</td>\n",
              "      <td>70.0</td>\n",
              "    </tr>\n",
              "    <tr>\n",
              "      <th>1</th>\n",
              "      <td>528791</td>\n",
              "      <td>2017-01-03</td>\n",
              "      <td>1</td>\n",
              "      <td>1254798</td>\n",
              "      <td>1029071</td>\n",
              "      <td>10.0</td>\n",
              "      <td>10.0</td>\n",
              "    </tr>\n",
              "    <tr>\n",
              "      <th>2</th>\n",
              "      <td>528791</td>\n",
              "      <td>2017-01-03</td>\n",
              "      <td>2</td>\n",
              "      <td>1254798</td>\n",
              "      <td>1033341</td>\n",
              "      <td>10.0</td>\n",
              "      <td>10.0</td>\n",
              "    </tr>\n",
              "    <tr>\n",
              "      <th>3</th>\n",
              "      <td>528791</td>\n",
              "      <td>2017-01-03</td>\n",
              "      <td>3</td>\n",
              "      <td>1254798</td>\n",
              "      <td>1040827</td>\n",
              "      <td>5.0</td>\n",
              "      <td>5.0</td>\n",
              "    </tr>\n",
              "    <tr>\n",
              "      <th>4</th>\n",
              "      <td>528791</td>\n",
              "      <td>2017-01-03</td>\n",
              "      <td>4</td>\n",
              "      <td>1254798</td>\n",
              "      <td>10106111</td>\n",
              "      <td>10.0</td>\n",
              "      <td>10.0</td>\n",
              "    </tr>\n",
              "  </tbody>\n",
              "</table>\n",
              "</div>"
            ],
            "text/plain": [
              "   Order Number  Order Date  ...  Quantity Ordered  Quantity Shipped\n",
              "0        528758  2017-01-03  ...              70.0              70.0\n",
              "1        528791  2017-01-03  ...              10.0              10.0\n",
              "2        528791  2017-01-03  ...              10.0              10.0\n",
              "3        528791  2017-01-03  ...               5.0               5.0\n",
              "4        528791  2017-01-03  ...              10.0              10.0\n",
              "\n",
              "[5 rows x 7 columns]"
            ]
          },
          "metadata": {
            "tags": []
          },
          "execution_count": 15
        }
      ]
    },
    {
      "cell_type": "code",
      "metadata": {
        "id": "p-EiiiWgMaZ_",
        "colab_type": "code",
        "colab": {
          "base_uri": "https://localhost:8080/",
          "height": 606
        },
        "outputId": "1bf6751c-3c5c-48b9-d1d1-678cc17ff828"
      },
      "source": [
        "# Concatenate Canceled_test into Sales_test to get Data_test\n",
        "data_test=pd.concat([sales_test,canceled_test],ignore_index=True)\n",
        "data_test"
      ],
      "execution_count": 16,
      "outputs": [
        {
          "output_type": "execute_result",
          "data": {
            "text/html": [
              "<div>\n",
              "<style scoped>\n",
              "    .dataframe tbody tr th:only-of-type {\n",
              "        vertical-align: middle;\n",
              "    }\n",
              "\n",
              "    .dataframe tbody tr th {\n",
              "        vertical-align: top;\n",
              "    }\n",
              "\n",
              "    .dataframe thead th {\n",
              "        text-align: right;\n",
              "    }\n",
              "</style>\n",
              "<table border=\"1\" class=\"dataframe\">\n",
              "  <thead>\n",
              "    <tr style=\"text-align: right;\">\n",
              "      <th></th>\n",
              "      <th>Order Number</th>\n",
              "      <th>Order Date</th>\n",
              "      <th>Line Number</th>\n",
              "      <th>Ship To Address No</th>\n",
              "      <th>Item Code</th>\n",
              "      <th>Quantity Ordered</th>\n",
              "      <th>Quantity Shipped</th>\n",
              "      <th>Quantity Canceled</th>\n",
              "    </tr>\n",
              "  </thead>\n",
              "  <tbody>\n",
              "    <tr>\n",
              "      <th>0</th>\n",
              "      <td>528758</td>\n",
              "      <td>2017-01-03</td>\n",
              "      <td>1</td>\n",
              "      <td>1358538</td>\n",
              "      <td>111931</td>\n",
              "      <td>70.0</td>\n",
              "      <td>70.0</td>\n",
              "      <td>NaN</td>\n",
              "    </tr>\n",
              "    <tr>\n",
              "      <th>1</th>\n",
              "      <td>528791</td>\n",
              "      <td>2017-01-03</td>\n",
              "      <td>1</td>\n",
              "      <td>1254798</td>\n",
              "      <td>1029071</td>\n",
              "      <td>10.0</td>\n",
              "      <td>10.0</td>\n",
              "      <td>NaN</td>\n",
              "    </tr>\n",
              "    <tr>\n",
              "      <th>2</th>\n",
              "      <td>528791</td>\n",
              "      <td>2017-01-03</td>\n",
              "      <td>2</td>\n",
              "      <td>1254798</td>\n",
              "      <td>1033341</td>\n",
              "      <td>10.0</td>\n",
              "      <td>10.0</td>\n",
              "      <td>NaN</td>\n",
              "    </tr>\n",
              "    <tr>\n",
              "      <th>3</th>\n",
              "      <td>528791</td>\n",
              "      <td>2017-01-03</td>\n",
              "      <td>3</td>\n",
              "      <td>1254798</td>\n",
              "      <td>1040827</td>\n",
              "      <td>5.0</td>\n",
              "      <td>5.0</td>\n",
              "      <td>NaN</td>\n",
              "    </tr>\n",
              "    <tr>\n",
              "      <th>4</th>\n",
              "      <td>528791</td>\n",
              "      <td>2017-01-03</td>\n",
              "      <td>4</td>\n",
              "      <td>1254798</td>\n",
              "      <td>10106111</td>\n",
              "      <td>10.0</td>\n",
              "      <td>10.0</td>\n",
              "      <td>NaN</td>\n",
              "    </tr>\n",
              "    <tr>\n",
              "      <th>...</th>\n",
              "      <td>...</td>\n",
              "      <td>...</td>\n",
              "      <td>...</td>\n",
              "      <td>...</td>\n",
              "      <td>...</td>\n",
              "      <td>...</td>\n",
              "      <td>...</td>\n",
              "      <td>...</td>\n",
              "    </tr>\n",
              "    <tr>\n",
              "      <th>31972</th>\n",
              "      <td>543485</td>\n",
              "      <td>2017-02-25</td>\n",
              "      <td>8</td>\n",
              "      <td>2203715</td>\n",
              "      <td>10135140</td>\n",
              "      <td>3.0</td>\n",
              "      <td>NaN</td>\n",
              "      <td>3.0</td>\n",
              "    </tr>\n",
              "    <tr>\n",
              "      <th>31973</th>\n",
              "      <td>543488</td>\n",
              "      <td>2017-02-25</td>\n",
              "      <td>6</td>\n",
              "      <td>2203449</td>\n",
              "      <td>1040468</td>\n",
              "      <td>2.0</td>\n",
              "      <td>NaN</td>\n",
              "      <td>2.0</td>\n",
              "    </tr>\n",
              "    <tr>\n",
              "      <th>31974</th>\n",
              "      <td>543488</td>\n",
              "      <td>2017-02-25</td>\n",
              "      <td>7</td>\n",
              "      <td>2203449</td>\n",
              "      <td>1040466</td>\n",
              "      <td>1.0</td>\n",
              "      <td>NaN</td>\n",
              "      <td>1.0</td>\n",
              "    </tr>\n",
              "    <tr>\n",
              "      <th>31975</th>\n",
              "      <td>543491</td>\n",
              "      <td>2017-02-25</td>\n",
              "      <td>5</td>\n",
              "      <td>2203449</td>\n",
              "      <td>10135358</td>\n",
              "      <td>21.0</td>\n",
              "      <td>NaN</td>\n",
              "      <td>21.0</td>\n",
              "    </tr>\n",
              "    <tr>\n",
              "      <th>31976</th>\n",
              "      <td>543491</td>\n",
              "      <td>2017-02-25</td>\n",
              "      <td>9</td>\n",
              "      <td>2203449</td>\n",
              "      <td>10135363</td>\n",
              "      <td>6.0</td>\n",
              "      <td>NaN</td>\n",
              "      <td>6.0</td>\n",
              "    </tr>\n",
              "  </tbody>\n",
              "</table>\n",
              "<p>31977 rows × 8 columns</p>\n",
              "</div>"
            ],
            "text/plain": [
              "       Order Number  Order Date  ...  Quantity Shipped  Quantity Canceled\n",
              "0            528758  2017-01-03  ...              70.0                NaN\n",
              "1            528791  2017-01-03  ...              10.0                NaN\n",
              "2            528791  2017-01-03  ...              10.0                NaN\n",
              "3            528791  2017-01-03  ...               5.0                NaN\n",
              "4            528791  2017-01-03  ...              10.0                NaN\n",
              "...             ...         ...  ...               ...                ...\n",
              "31972        543485  2017-02-25  ...               NaN                3.0\n",
              "31973        543488  2017-02-25  ...               NaN                2.0\n",
              "31974        543488  2017-02-25  ...               NaN                1.0\n",
              "31975        543491  2017-02-25  ...               NaN               21.0\n",
              "31976        543491  2017-02-25  ...               NaN                6.0\n",
              "\n",
              "[31977 rows x 8 columns]"
            ]
          },
          "metadata": {
            "tags": []
          },
          "execution_count": 16
        }
      ]
    },
    {
      "cell_type": "markdown",
      "metadata": {
        "id": "f8FPbWv6jQcX",
        "colab_type": "text"
      },
      "source": [
        ">><font color=\"blue\">*2.4  Data Analysis* </font>"
      ]
    },
    {
      "cell_type": "code",
      "metadata": {
        "id": "ooHyQE9ymePx",
        "colab_type": "code",
        "colab": {}
      },
      "source": [
        "# Import libraries\n",
        "import numpy as np\n",
        "from termcolor import colored\n",
        "import matplotlib.pyplot as plt\n",
        "import seaborn as sns"
      ],
      "execution_count": 18,
      "outputs": []
    },
    {
      "cell_type": "markdown",
      "metadata": {
        "id": "nCz1YpSrqsha",
        "colab_type": "text"
      },
      "source": [
        ">>><font color='purple'> *2.4.1  Plot the daily volume over the period* </font>"
      ]
    },
    {
      "cell_type": "code",
      "metadata": {
        "id": "qSHkMEXjrsoP",
        "colab_type": "code",
        "colab": {
          "base_uri": "https://localhost:8080/",
          "height": 497
        },
        "outputId": "4ad57032-5280-4890-b451-c1384337945c"
      },
      "source": [
        "# Plot the daily volume over the period \n",
        "Volum_by_day=data_test.groupby('Order Date')['Quantity Ordered'].sum()\n",
        "print(colored('Average quantity ordered per day is: ','blue'), round(Volum_by_day.mean(),1))\n",
        "print('-'*110)\n",
        "Volum_by_day.plot(color='green',figsize=(16,8),grid=True)\n",
        "plt.title('Daily Volume over the period time from January 2017 to Febuary 2017', color='red',fontsize=16)\n",
        "plt.xlabel('Order date',color='purple',fontsize=14)\n",
        "plt.ylabel('Quantity Ordered',color='purple',fontsize=14)\n",
        "plt.margins(0.01)\n",
        "plt.show()"
      ],
      "execution_count": 19,
      "outputs": [
        {
          "output_type": "stream",
          "text": [
            "\u001b[34mAverage quantity ordered per day is: \u001b[0m 4137.5\n",
            "--------------------------------------------------------------------------------------------------------------\n"
          ],
          "name": "stdout"
        },
        {
          "output_type": "display_data",
          "data": {
            "image/png": "[encoded data removed]",
            "text/plain": [
              "<Figure size 1152x576 with 1 Axes>"
            ]
          },
          "metadata": {
            "tags": [],
            "needs_background": "light"
          }
        }
      ]
    },
    {
      "cell_type": "markdown",
      "metadata": {
        "id": "4heslnMmyabY",
        "colab_type": "text"
      },
      "source": [
        "Based on the data of two first months in 2017, we realize that demand fluctuation through the quantity of orders tends to <font color='red'> increase within 1-2 weeks of the end of each month</font>.  The weeks in early-month is <font color='blue'>significantly  lower</font>.\n",
        "\n",
        "In addition, the number of orders decreased sharply since mid-February then skyrocketed in the last week of the month."
      ]
    },
    {
      "cell_type": "markdown",
      "metadata": {
        "id": "OdnDiwxIrNEJ",
        "colab_type": "text"
      },
      "source": [
        "\n",
        ">>><font color='purple'> *2.4.2  ABC classification of SKUs and Clients* </font>"
      ]
    },
    {
      "cell_type": "code",
      "metadata": {
        "id": "2SsK8qh_uCzI",
        "colab_type": "code",
        "colab": {}
      },
      "source": [
        "# Pivot Data_test to Grou by SKU (Item Code) and Client (Address rbySKU=pd.piNo)\n",
        "GrbySKU=pd.pivot_table(data_test, values=['Quantity Ordered','Quantity Shipped'], index='Item Code', aggfunc=[np.sum])\n",
        "GrbyClient=pd.pivot_table(data_test,values=['Quantity Ordered','Quantity Shipped'], index='Ship To Address No', aggfunc=[np.sum])"
      ],
      "execution_count": 99,
      "outputs": []
    },
    {
      "cell_type": "code",
      "metadata": {
        "id": "z7x05HU7CfzG",
        "colab_type": "code",
        "colab": {
          "base_uri": "https://localhost:8080/",
          "height": 555
        },
        "outputId": "8e3124dc-e1df-4c54-88d5-365740ff4cf5"
      },
      "source": [
        "# Rename columns and Sort Sum of Quantity Ordered in descending for GroupbySKU \n",
        "print(colored('Groupby SKU','blue'))\n",
        "GrbySKU.columns=[''.join(col) for col in GrbySKU.columns]\n",
        "GrbySKU=GrbySKU.sort_values('sumQuantity Ordered',ascending=False).reset_index()\n",
        "print(GrbySKU)\n",
        "print('-'*70)\n",
        "print(colored('Groupby Client','blue'))\n",
        "GrbyClient.columns=[''.join(col) for col in GrbyClient.columns]\n",
        "GrbyClient=GrbyClient.sort_values('sumQuantity Ordered',ascending=False).reset_index()\n",
        "print(GrbyClient)"
      ],
      "execution_count": 100,
      "outputs": [
        {
          "output_type": "stream",
          "text": [
            "\u001b[34mGroupby SKU\u001b[0m\n",
            "    Item Code  sumQuantity Ordered  sumQuantity Shipped\n",
            "0    10098739              29031.0              27173.0\n",
            "1      111931              21890.0              15575.0\n",
            "2     1041106              14269.0              13178.0\n",
            "3     1040765              13845.0              11980.0\n",
            "4      110441              10030.0               9600.0\n",
            "..        ...                  ...                  ...\n",
            "74    1039467                  5.0                  5.0\n",
            "75   10118567                  5.0                  5.0\n",
            "76   10102556                  2.0                  0.0\n",
            "77    1035986                  1.0                  0.0\n",
            "78   10115790                  1.0                  1.0\n",
            "\n",
            "[79 rows x 3 columns]\n",
            "----------------------------------------------------------------------\n",
            "\u001b[34mGroupby Client\u001b[0m\n",
            "     Ship To Address No  sumQuantity Ordered  sumQuantity Shipped\n",
            "0               1795849              20907.0              14599.0\n",
            "1               1255548              12375.0              11567.0\n",
            "2               1255123              11775.0              11629.0\n",
            "3               1740542              11370.0              10697.0\n",
            "4               1255216              10554.0               6685.0\n",
            "..                  ...                  ...                  ...\n",
            "726             1255344                  1.0                  1.0\n",
            "727             2068671                  1.0                  0.0\n",
            "728             1255451                  1.0                  1.0\n",
            "729             1255436                  1.0                  0.0\n",
            "730               62998                  1.0                  0.0\n",
            "\n",
            "[731 rows x 3 columns]\n"
          ],
          "name": "stdout"
        }
      ]
    },
    {
      "cell_type": "code",
      "metadata": {
        "id": "Jxx3gSRdqW6J",
        "colab_type": "code",
        "colab": {}
      },
      "source": [
        "# Compute Volume cumulative sum in percentage of total by SKUs and Clients\n",
        "GrbySKU['%Volume in Cumsum']=round(GrbySKU['sumQuantity Ordered'].cumsum()/GrbySKU['sumQuantity Ordered'].sum()*100,1)\n",
        "GrbyClient['%Volume in Cumsum']=round(GrbyClient['sumQuantity Ordered'].cumsum()/GrbyClient['sumQuantity Ordered'].sum()*100,1)"
      ],
      "execution_count": 101,
      "outputs": []
    },
    {
      "cell_type": "code",
      "metadata": {
        "id": "EYjqVx7_t9Fc",
        "colab_type": "code",
        "colab": {}
      },
      "source": [
        "# Classify SKUs & Clients by ABC\n",
        "## Create a function that operates on the row like so:\n",
        "def f(row):\n",
        "  if   row['%Volume in Cumsum'] < 80 :\n",
        "        val=\"A\"\n",
        "  elif row['%Volume in Cumsum'] > 95 :\n",
        "        val=\"C\"\n",
        "  else:\n",
        "        val=\"B\"\n",
        "  return val\n",
        "## Then apply it to GrbySKU, GrbyClient passing in the axis=1 option:\n",
        "GrbySKU['Classification']=GrbySKU.apply(f, axis=1)\n",
        "GrbyClient['Classification']=GrbyClient.apply(f, axis=1)"
      ],
      "execution_count": 102,
      "outputs": []
    },
    {
      "cell_type": "code",
      "metadata": {
        "id": "PZYXt8KtPYS1",
        "colab_type": "code",
        "colab": {}
      },
      "source": [
        "# Specify Number of SKUs and Clients in Cummulative sum match with %Volume in Cumsum\n",
        "GrbySKU['No SKU in Cumsum']=GrbySKU.index+1\n",
        "GrbyClient['No Client in Cumsum']=GrbyClient.index+1\n",
        "# Perform ABC Classification on SKU and Client\n",
        "ABCSKU=pd.pivot_table(GrbySKU, values=['Item Code'], index='Classification', aggfunc='count').reset_index()\n",
        "ABCClient=pd.pivot_table(GrbyClient,values=['Ship To Address No'], index='Classification', aggfunc='count').reset_index()\n",
        "ABCSKU['%No SKU']=round(((ABCSKU['Item Code']/ABCSKU['Item Code'].sum())*100),0)\n",
        "ABCClient['%No Client']=round(((ABCClient['Ship To Address No']/ABCClient['Ship To Address No'].sum())*100),0)\n",
        "ABCcategory=pd.merge(ABCSKU,ABCClient,on='Classification',how='outer')"
      ],
      "execution_count": 103,
      "outputs": []
    },
    {
      "cell_type": "code",
      "metadata": {
        "id": "v1ckWrdIvDQ1",
        "colab_type": "code",
        "colab": {
          "base_uri": "https://localhost:8080/",
          "height": 453
        },
        "outputId": "3203c25e-de95-4071-fe2a-bef10ceea373"
      },
      "source": [
        "# Display ABC Classification of SKUs and Clients in table\n",
        "print(colored('ABC Classification of SKUs and Clients','red'))\n",
        "display(ABCcategory)\n",
        "\n",
        "# Grap of ABC Classification on SKU and Client\n",
        "x=GrbySKU['No SKU in Cumsum']\n",
        "y=GrbySKU['%Volume in Cumsum']\n",
        "z=GrbyClient['No Client in Cumsum']\n",
        "t=GrbyClient['%Volume in Cumsum']\n",
        "fig, axes = plt.subplots(nrows=1, ncols=2, figsize=(27,8))\n",
        "## Plot of SKU Classification\n",
        "plt.subplot(1,2,1)\n",
        "plt.plot(x,y,linestyle='-',linewidth=3, color='green')\n",
        "plt.title('ABC Classification on SKU',color='darkorange',fontsize=28,fontweight='bold',y=1.05)\n",
        "plt.xlabel('Number of SKU',fontsize=18, fontweight='bold')\n",
        "plt.ylabel('% Volume in Total',fontsize=18,fontweight='bold')\n",
        "plt.xticks(fontsize=18)\n",
        "plt.yticks(fontsize=18)\n",
        "plt.margins()\n",
        "### Specify intersections for ABC category\n",
        "x1=[22,22+18]\n",
        "y1=(GrbySKU['%Volume in Cumsum'].values[[22-1,22+18-1]])\n",
        "plt.plot(x1,y1, marker='o', markersize=16, color='r',\n",
        "         linestyle='none')\n",
        "### Plot some more auxiliary lines to help divide ABC category\n",
        "x2=[22,22,22,79,40,40,40,0]\n",
        "y2=[0,79.3,94.8,94.8,94.8,100,79.3,79.3]\n",
        "plt.plot(x2,y2,linestyle='--',color='blue')\n",
        "plt.margins(0.009)\n",
        "plt.text(5,48,\"A\",size=50,color='red')\n",
        "plt.text(28,85,\"B\",size=40,color='red')\n",
        "plt.text(60,95,\"C\",size=36,color='red')\n",
        "\n",
        "## Do the same like that to plot for Client Classification\n",
        "plt.subplot(1,2,2)\n",
        "plt.plot(z,t,linestyle='-',linewidth=3, color='green')\n",
        "plt.title('ABC Classification on Client',color='darkorange',fontsize=28,fontweight='bold',y=1.05)\n",
        "plt.xlabel('Number of Client',fontsize=18, fontweight='bold')\n",
        "plt.ylabel('% Volume in Total',fontsize=18,fontweight='bold')\n",
        "plt.xticks(fontsize=18)\n",
        "plt.yticks(fontsize=18)\n",
        "plt.margins()\n",
        "### Specify intersections for ABC category\n",
        "z1=[50,50+272]\n",
        "t1=(GrbyClient['%Volume in Cumsum'].values[[50-1,50+272-1]])\n",
        "plt.plot(z1,t1, marker='o', markersize=16, color='r',\n",
        "         linestyle='none')\n",
        "### Plot some more auxiliary lines to help divide ABC category\n",
        "z2=[50,50,50,731,321,321,321,0]\n",
        "t2=[0,79.9,95,95,95,100,79.9,79.9]\n",
        "plt.plot(z2,t2,linestyle='--',color='blue')\n",
        "plt.margins(0.009)\n",
        "plt.text(5,48,\"A\",size=45,color='red')\n",
        "plt.text(160,85,\"B\",size=40,color='red')\n",
        "plt.text(500,95,\"C\",size=36,color='red')\n",
        "\n",
        "plt.show()\n"
      ],
      "execution_count": 242,
      "outputs": [
        {
          "output_type": "stream",
          "text": [
            "\u001b[31mABC Classification of SKUs and Clients\u001b[0m\n"
          ],
          "name": "stdout"
        },
        {
          "output_type": "display_data",
          "data": {
            "text/html": [
              "<div>\n",
              "<style scoped>\n",
              "    .dataframe tbody tr th:only-of-type {\n",
              "        vertical-align: middle;\n",
              "    }\n",
              "\n",
              "    .dataframe tbody tr th {\n",
              "        vertical-align: top;\n",
              "    }\n",
              "\n",
              "    .dataframe thead th {\n",
              "        text-align: right;\n",
              "    }\n",
              "</style>\n",
              "<table border=\"1\" class=\"dataframe\">\n",
              "  <thead>\n",
              "    <tr style=\"text-align: right;\">\n",
              "      <th></th>\n",
              "      <th>Classification</th>\n",
              "      <th>Item Code</th>\n",
              "      <th>%No SKU</th>\n",
              "      <th>Ship To Address No</th>\n",
              "      <th>%No Client</th>\n",
              "    </tr>\n",
              "  </thead>\n",
              "  <tbody>\n",
              "    <tr>\n",
              "      <th>0</th>\n",
              "      <td>A</td>\n",
              "      <td>22</td>\n",
              "      <td>28.0</td>\n",
              "      <td>50</td>\n",
              "      <td>7.0</td>\n",
              "    </tr>\n",
              "    <tr>\n",
              "      <th>1</th>\n",
              "      <td>B</td>\n",
              "      <td>18</td>\n",
              "      <td>23.0</td>\n",
              "      <td>272</td>\n",
              "      <td>37.0</td>\n",
              "    </tr>\n",
              "    <tr>\n",
              "      <th>2</th>\n",
              "      <td>C</td>\n",
              "      <td>39</td>\n",
              "      <td>49.0</td>\n",
              "      <td>409</td>\n",
              "      <td>56.0</td>\n",
              "    </tr>\n",
              "  </tbody>\n",
              "</table>\n",
              "</div>"
            ],
            "text/plain": [
              "  Classification  Item Code  %No SKU  Ship To Address No  %No Client\n",
              "0              A         22     28.0                  50         7.0\n",
              "1              B         18     23.0                 272        37.0\n",
              "2              C         39     49.0                 409        56.0"
            ]
          },
          "metadata": {
            "tags": []
          }
        },
        {
          "output_type": "display_data",
          "data": {
            "image/png": "[encoded data removed]",
            "text/plain": [
              "<Figure size 1944x576 with 2 Axes>"
            ]
          },
          "metadata": {
            "tags": [],
            "needs_background": "light"
          }
        }
      ]
    },
    {
      "cell_type": "markdown",
      "metadata": {
        "id": "KsPOsBl3rj8C",
        "colab_type": "text"
      },
      "source": [
        ">>><font color='purple'> *2.4.3  Compute service level by SKU and by client* </font>"
      ]
    },
    {
      "cell_type": "code",
      "metadata": {
        "id": "WpNrCSWBkTSb",
        "colab_type": "code",
        "colab": {
          "base_uri": "https://localhost:8080/",
          "height": 848
        },
        "outputId": "3dc6b018-5505-4b60-ce55-d83af79cea86"
      },
      "source": [
        "# Caculate Service level in percentage per SKUs and Clients\n",
        "GrbySKU['Service level']=round(GrbySKU['sumQuantity Shipped']/GrbySKU['sumQuantity Ordered']*100,1)\n",
        "GrbyClient['Service level']=round(GrbyClient['sumQuantity Shipped']/GrbyClient['sumQuantity Ordered']*100,1)\n",
        "print(colored('Service level by SKU:','blue'))\n",
        "display(GrbySKU[['Item Code','Service level']])\n",
        "print(colored('Service level by Client:','blue'))\n",
        "display(GrbyClient[['Ship To Address No','Service level']])"
      ],
      "execution_count": 215,
      "outputs": [
        {
          "output_type": "stream",
          "text": [
            "\u001b[34mService level by SKU:\u001b[0m\n"
          ],
          "name": "stdout"
        },
        {
          "output_type": "display_data",
          "data": {
            "text/html": [
              "<div>\n",
              "<style scoped>\n",
              "    .dataframe tbody tr th:only-of-type {\n",
              "        vertical-align: middle;\n",
              "    }\n",
              "\n",
              "    .dataframe tbody tr th {\n",
              "        vertical-align: top;\n",
              "    }\n",
              "\n",
              "    .dataframe thead th {\n",
              "        text-align: right;\n",
              "    }\n",
              "</style>\n",
              "<table border=\"1\" class=\"dataframe\">\n",
              "  <thead>\n",
              "    <tr style=\"text-align: right;\">\n",
              "      <th></th>\n",
              "      <th>Item Code</th>\n",
              "      <th>Service level</th>\n",
              "    </tr>\n",
              "  </thead>\n",
              "  <tbody>\n",
              "    <tr>\n",
              "      <th>0</th>\n",
              "      <td>10098739</td>\n",
              "      <td>93.6</td>\n",
              "    </tr>\n",
              "    <tr>\n",
              "      <th>1</th>\n",
              "      <td>111931</td>\n",
              "      <td>71.2</td>\n",
              "    </tr>\n",
              "    <tr>\n",
              "      <th>2</th>\n",
              "      <td>1041106</td>\n",
              "      <td>92.4</td>\n",
              "    </tr>\n",
              "    <tr>\n",
              "      <th>3</th>\n",
              "      <td>1040765</td>\n",
              "      <td>86.5</td>\n",
              "    </tr>\n",
              "    <tr>\n",
              "      <th>4</th>\n",
              "      <td>110441</td>\n",
              "      <td>95.7</td>\n",
              "    </tr>\n",
              "    <tr>\n",
              "      <th>...</th>\n",
              "      <td>...</td>\n",
              "      <td>...</td>\n",
              "    </tr>\n",
              "    <tr>\n",
              "      <th>74</th>\n",
              "      <td>1039467</td>\n",
              "      <td>100.0</td>\n",
              "    </tr>\n",
              "    <tr>\n",
              "      <th>75</th>\n",
              "      <td>10118567</td>\n",
              "      <td>100.0</td>\n",
              "    </tr>\n",
              "    <tr>\n",
              "      <th>76</th>\n",
              "      <td>10102556</td>\n",
              "      <td>0.0</td>\n",
              "    </tr>\n",
              "    <tr>\n",
              "      <th>77</th>\n",
              "      <td>1035986</td>\n",
              "      <td>0.0</td>\n",
              "    </tr>\n",
              "    <tr>\n",
              "      <th>78</th>\n",
              "      <td>10115790</td>\n",
              "      <td>100.0</td>\n",
              "    </tr>\n",
              "  </tbody>\n",
              "</table>\n",
              "<p>79 rows × 2 columns</p>\n",
              "</div>"
            ],
            "text/plain": [
              "    Item Code  Service level\n",
              "0    10098739           93.6\n",
              "1      111931           71.2\n",
              "2     1041106           92.4\n",
              "3     1040765           86.5\n",
              "4      110441           95.7\n",
              "..        ...            ...\n",
              "74    1039467          100.0\n",
              "75   10118567          100.0\n",
              "76   10102556            0.0\n",
              "77    1035986            0.0\n",
              "78   10115790          100.0\n",
              "\n",
              "[79 rows x 2 columns]"
            ]
          },
          "metadata": {
            "tags": []
          }
        },
        {
          "output_type": "stream",
          "text": [
            "\u001b[34mService level by Client:\u001b[0m\n"
          ],
          "name": "stdout"
        },
        {
          "output_type": "display_data",
          "data": {
            "text/html": [
              "<div>\n",
              "<style scoped>\n",
              "    .dataframe tbody tr th:only-of-type {\n",
              "        vertical-align: middle;\n",
              "    }\n",
              "\n",
              "    .dataframe tbody tr th {\n",
              "        vertical-align: top;\n",
              "    }\n",
              "\n",
              "    .dataframe thead th {\n",
              "        text-align: right;\n",
              "    }\n",
              "</style>\n",
              "<table border=\"1\" class=\"dataframe\">\n",
              "  <thead>\n",
              "    <tr style=\"text-align: right;\">\n",
              "      <th></th>\n",
              "      <th>Ship To Address No</th>\n",
              "      <th>Service level</th>\n",
              "    </tr>\n",
              "  </thead>\n",
              "  <tbody>\n",
              "    <tr>\n",
              "      <th>0</th>\n",
              "      <td>1795849</td>\n",
              "      <td>69.8</td>\n",
              "    </tr>\n",
              "    <tr>\n",
              "      <th>1</th>\n",
              "      <td>1255548</td>\n",
              "      <td>93.5</td>\n",
              "    </tr>\n",
              "    <tr>\n",
              "      <th>2</th>\n",
              "      <td>1255123</td>\n",
              "      <td>98.8</td>\n",
              "    </tr>\n",
              "    <tr>\n",
              "      <th>3</th>\n",
              "      <td>1740542</td>\n",
              "      <td>94.1</td>\n",
              "    </tr>\n",
              "    <tr>\n",
              "      <th>4</th>\n",
              "      <td>1255216</td>\n",
              "      <td>63.3</td>\n",
              "    </tr>\n",
              "    <tr>\n",
              "      <th>...</th>\n",
              "      <td>...</td>\n",
              "      <td>...</td>\n",
              "    </tr>\n",
              "    <tr>\n",
              "      <th>726</th>\n",
              "      <td>1255344</td>\n",
              "      <td>100.0</td>\n",
              "    </tr>\n",
              "    <tr>\n",
              "      <th>727</th>\n",
              "      <td>2068671</td>\n",
              "      <td>0.0</td>\n",
              "    </tr>\n",
              "    <tr>\n",
              "      <th>728</th>\n",
              "      <td>1255451</td>\n",
              "      <td>100.0</td>\n",
              "    </tr>\n",
              "    <tr>\n",
              "      <th>729</th>\n",
              "      <td>1255436</td>\n",
              "      <td>0.0</td>\n",
              "    </tr>\n",
              "    <tr>\n",
              "      <th>730</th>\n",
              "      <td>62998</td>\n",
              "      <td>0.0</td>\n",
              "    </tr>\n",
              "  </tbody>\n",
              "</table>\n",
              "<p>731 rows × 2 columns</p>\n",
              "</div>"
            ],
            "text/plain": [
              "     Ship To Address No  Service level\n",
              "0               1795849           69.8\n",
              "1               1255548           93.5\n",
              "2               1255123           98.8\n",
              "3               1740542           94.1\n",
              "4               1255216           63.3\n",
              "..                  ...            ...\n",
              "726             1255344          100.0\n",
              "727             2068671            0.0\n",
              "728             1255451          100.0\n",
              "729             1255436            0.0\n",
              "730               62998            0.0\n",
              "\n",
              "[731 rows x 2 columns]"
            ]
          },
          "metadata": {
            "tags": []
          }
        }
      ]
    },
    {
      "cell_type": "code",
      "metadata": {
        "id": "NkKZRItjbMQt",
        "colab_type": "code",
        "colab": {}
      },
      "source": [
        "# Evaluate the Service level according as 3 Rank: Low (<80%), Medium(80%-95%) and High (>95%)\n",
        "## Create a function that operates on the row like so:\n",
        "def f1(row):\n",
        "  if   row['Service level'] < 80 :\n",
        "        val=\"Low\"\n",
        "  elif row['Service level'] > 95 :\n",
        "        val=\"High\"\n",
        "  else:\n",
        "        val=\"Medium\"\n",
        "  return val\n",
        "## Then apply it to GrbySKU, GrbyClient passing in the axis=1 option:\n",
        "GrbySKU['Service Ranking']=GrbySKU.apply(f1, axis=1)\n",
        "GrbyClient['Service Ranking']=GrbyClient.apply(f1, axis=1)"
      ],
      "execution_count": 186,
      "outputs": []
    },
    {
      "cell_type": "code",
      "metadata": {
        "id": "tcgxXSVkd6By",
        "colab_type": "code",
        "colab": {
          "base_uri": "https://localhost:8080/",
          "height": 191
        },
        "outputId": "6952ea26-b48b-4af6-b46c-e8bfe7ec0ce3"
      },
      "source": [
        "# Dertermine Percentage (%) in total quantity of SKU and Client by three Serive Ranking\n",
        "RankSKU=pd.pivot_table(GrbySKU, values=['Item Code'], index='Service Ranking', aggfunc='count').reset_index()\n",
        "RankClient=pd.pivot_table(GrbyClient,values=['Ship To Address No'], index='Service Ranking', aggfunc='count').reset_index()\n",
        "RankSKU['SKU']=round(((RankSKU['Item Code']/RankSKU['Item Code'].sum())*100),0)\n",
        "RankClient['Client']=round(((RankClient['Ship To Address No']/RankClient['Ship To Address No'].sum())*100),0)\n",
        "ServiceRank=pd.merge(RankSKU,RankClient,on='Service Ranking',how='outer')\n",
        "ServiceRank=ServiceRank.drop(['Item Code','Ship To Address No'],axis=1)\n",
        "ServiceRank=ServiceRank.transpose()\n",
        "ServiceRank.columns=ServiceRank.iloc[0]\n",
        "ServiceRank=ServiceRank[1:]\n",
        "ServiceRank.info()"
      ],
      "execution_count": 228,
      "outputs": [
        {
          "output_type": "stream",
          "text": [
            "<class 'pandas.core.frame.DataFrame'>\n",
            "Index: 2 entries, SKU to Client\n",
            "Data columns (total 3 columns):\n",
            " #   Column  Non-Null Count  Dtype \n",
            "---  ------  --------------  ----- \n",
            " 0   High    2 non-null      object\n",
            " 1   Low     2 non-null      object\n",
            " 2   Medium  2 non-null      object\n",
            "dtypes: object(3)\n",
            "memory usage: 64.0+ bytes\n"
          ],
          "name": "stdout"
        }
      ]
    },
    {
      "cell_type": "code",
      "metadata": {
        "id": "wnc64fytIW9m",
        "colab_type": "code",
        "colab": {
          "base_uri": "https://localhost:8080/",
          "height": 515
        },
        "outputId": "bd4cb388-723d-47d3-dc49-68684e199370"
      },
      "source": [
        "ServiceRank_1 = ServiceRank.plot.bar(figsize=(6,6),stacked=True, rot=0)\n",
        "display(ServiceRank)\n",
        "\n",
        "plt.legend(loc='upper center', bbox_to_anchor=(1.1, 1.0), title=\"Service Ranking\")\n",
        "\n",
        "plt.title('Percent distribution of 3 service rank in the total quantity of SKU and Client',color='red',fontsize=15,y=1.05)\n",
        "plt.xlabel('Feature',fontweight='bold')\n",
        "plt.ylabel('Percent Distribution',fontweight='bold')\n",
        "\n",
        "for rec in ServiceRank_1.patches:\n",
        "    height = rec.get_height()\n",
        "    ServiceRank_1.text(rec.get_x() + rec.get_width() / 2, \n",
        "              rec.get_y() + height / 2,\n",
        "              \"{:.0f}%\".format(height),\n",
        "              ha='center', \n",
        "              va='bottom')"
      ],
      "execution_count": 227,
      "outputs": [
        {
          "output_type": "display_data",
          "data": {
            "text/html": [
              "<div>\n",
              "<style scoped>\n",
              "    .dataframe tbody tr th:only-of-type {\n",
              "        vertical-align: middle;\n",
              "    }\n",
              "\n",
              "    .dataframe tbody tr th {\n",
              "        vertical-align: top;\n",
              "    }\n",
              "\n",
              "    .dataframe thead th {\n",
              "        text-align: right;\n",
              "    }\n",
              "</style>\n",
              "<table border=\"1\" class=\"dataframe\">\n",
              "  <thead>\n",
              "    <tr style=\"text-align: right;\">\n",
              "      <th>Service Ranking</th>\n",
              "      <th>High</th>\n",
              "      <th>Low</th>\n",
              "      <th>Medium</th>\n",
              "    </tr>\n",
              "  </thead>\n",
              "  <tbody>\n",
              "    <tr>\n",
              "      <th>SKU</th>\n",
              "      <td>16</td>\n",
              "      <td>46</td>\n",
              "      <td>38</td>\n",
              "    </tr>\n",
              "    <tr>\n",
              "      <th>Client</th>\n",
              "      <td>34</td>\n",
              "      <td>14</td>\n",
              "      <td>52</td>\n",
              "    </tr>\n",
              "  </tbody>\n",
              "</table>\n",
              "</div>"
            ],
            "text/plain": [
              "Service Ranking High Low Medium\n",
              "SKU               16  46     38\n",
              "Client            34  14     52"
            ]
          },
          "metadata": {
            "tags": []
          }
        },
        {
          "output_type": "display_data",
          "data": {
            "image/png": "[encoded data removed]",
            "text/plain": [
              "<Figure size 432x432 with 1 Axes>"
            ]
          },
          "metadata": {
            "tags": [],
            "needs_background": "light"
          }
        }
      ]
    },
    {
      "cell_type": "code",
      "metadata": {
        "id": "IjW2wjbKnDG9",
        "colab_type": "code",
        "colab": {}
      },
      "source": [
        "a=pd.pivot_table(GrbySKU, values=['Service level'], index='Classification', aggfunc='mean')\n",
        "b=pd.pivot_table(GrbyClient, values=['Service level'], index='Classification', aggfunc='mean')\n",
        "a.columns=[''.join(col) for col in a.columns]\n",
        "b.columns=[''.join(col) for col in b.columns]\n",
        "a['Service level']=round(a['Service level'],0)\n",
        "b['Service level']=round(b['Service level'],0)\n",
        "a=a.sort_values('Classification',ascending=False).reset_index()\n",
        "b=b.sort_values('Classification',ascending=False).reset_index()"
      ],
      "execution_count": 230,
      "outputs": []
    },
    {
      "cell_type": "code",
      "metadata": {
        "id": "6fUYQfw-rNPg",
        "colab_type": "code",
        "colab": {
          "base_uri": "https://localhost:8080/",
          "height": 291
        },
        "outputId": "68bdbc15-2580-4011-eb04-2bc6d1c1d6a3"
      },
      "source": [
        "x=a['Classification']\n",
        "y=a['Service level']\n",
        "x1=b['Classification']\n",
        "y1=b['Service level']\n",
        "\n",
        "fig, axes = plt.subplots(nrows=1, ncols=2, figsize=(25,8))\n",
        "\n",
        "plt.subplot(1,2,1)\n",
        "plt.barh(x,y,color=['y','c','r'],height=0.6)\n",
        "plt.title('Average Service level for ABC SKU',color='g',fontsize=28,fontweight='bold',y=1.05)\n",
        "plt.xlabel('%Service level in Average',fontsize=20, fontweight='bold')\n",
        "plt.ylabel('Classification',fontsize=20,fontweight='bold')\n",
        "plt.xticks(fontsize=20)\n",
        "plt.yticks(fontsize=22)\n",
        "for index, value in enumerate(y):\n",
        "    plt.text(value, index, str(value),fontsize = 22, fontweight ='bold', \n",
        "             color ='m')\n",
        "\n",
        "plt.subplot(1,2,2)\n",
        "plt.barh(x1,y1,color=['y','c','r'],height=0.6)\n",
        "plt.title('Average Service level for ABC Client',color='g',fontsize=28,fontweight='bold',y=1.05)\n",
        "plt.xlabel('%Service level in Average',fontsize=20, fontweight='bold')\n",
        "plt.ylabel('Classification',fontsize=20,fontweight='bold')\n",
        "plt.xticks(fontsize=20)\n",
        "plt.yticks(fontsize=22)\n",
        "for index, value in enumerate(y1):\n",
        "    plt.text(value, index, str(value),fontsize = 22, fontweight ='bold', \n",
        "             color ='m')  \n",
        "plt.tight_layout()\n",
        "\n",
        "plt.show()"
      ],
      "execution_count": 232,
      "outputs": [
        {
          "output_type": "display_data",
          "data": {
            "image/png": "[encoded data removed]",
            "text/plain": [
              "<Figure size 1800x576 with 2 Axes>"
            ]
          },
          "metadata": {
            "tags": [],
            "needs_background": "light"
          }
        }
      ]
    },
    {
      "cell_type": "code",
      "metadata": {
        "id": "vgi9o1ejFWtt",
        "colab_type": "code",
        "colab": {}
      },
      "source": [
        ""
      ],
      "execution_count": null,
      "outputs": []
    },
    {
      "cell_type": "markdown",
      "metadata": {
        "id": "xbR9hwS3a7Ui",
        "colab_type": "text"
      },
      "source": [
        ">**3. CONCLUSION**"
      ]
    }
  ]
}